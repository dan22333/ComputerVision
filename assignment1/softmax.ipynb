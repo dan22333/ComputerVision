{
 "cells": [
  {
   "cell_type": "markdown",
   "metadata": {},
   "source": [
    "# Softmax exercise\n",
    "\n",
    "*Complete and hand in this completed worksheet (including its outputs and any supporting code outside of the worksheet) with your assignment submission. For more details see the [assignments page](http://vision.stanford.edu/teaching/cs231n/assignments.html) on the course website.*\n",
    "\n",
    "This exercise is analogous to the SVM exercise. You will:\n",
    "\n",
    "- implement a fully-vectorized **loss function** for the Softmax classifier\n",
    "- implement the fully-vectorized expression for its **analytic gradient**\n",
    "- **check your implementation** with numerical gradient\n",
    "- use a validation set to **tune the learning rate and regularization** strength\n",
    "- **optimize** the loss function with **SGD**\n",
    "- **visualize** the final learned weights\n"
   ]
  },
  {
   "cell_type": "code",
   "execution_count": 1,
   "metadata": {},
   "outputs": [],
   "source": [
    "import random\n",
    "import numpy as np\n",
    "from cs231n.data_utils import load_CIFAR10\n",
    "import matplotlib.pyplot as plt\n",
    "\n",
    "from __future__ import print_function\n",
    "\n",
    "%matplotlib inline\n",
    "plt.rcParams['figure.figsize'] = (10.0, 8.0) # set default size of plots\n",
    "plt.rcParams['image.interpolation'] = 'nearest'\n",
    "plt.rcParams['image.cmap'] = 'gray'\n",
    "\n",
    "# for auto-reloading extenrnal modules\n",
    "# see http://stackoverflow.com/questions/1907993/autoreload-of-modules-in-ipython\n",
    "%load_ext autoreload\n",
    "%autoreload 2"
   ]
  },
  {
   "cell_type": "code",
   "execution_count": 2,
   "metadata": {},
   "outputs": [
    {
     "name": "stdout",
     "output_type": "stream",
     "text": [
      "Train data shape:  (49000, 3073)\n",
      "Train labels shape:  (49000,)\n",
      "Validation data shape:  (1000, 3073)\n",
      "Validation labels shape:  (1000,)\n",
      "Test data shape:  (1000, 3073)\n",
      "Test labels shape:  (1000,)\n",
      "dev data shape:  (500, 3073)\n",
      "dev labels shape:  (500,)\n"
     ]
    }
   ],
   "source": [
    "def get_CIFAR10_data(num_training=49000, num_validation=1000, num_test=1000, num_dev=500):\n",
    "    \"\"\"\n",
    "    Load the CIFAR-10 dataset from disk and perform preprocessing to prepare\n",
    "    it for the linear classifier. These are the same steps as we used for the\n",
    "    SVM, but condensed to a single function.  \n",
    "    \"\"\"\n",
    "    # Load the raw CIFAR-10 data\n",
    "    cifar10_dir = 'cs231n/datasets/cifar-10-batches-py'\n",
    "    X_train, y_train, X_test, y_test = load_CIFAR10(cifar10_dir)\n",
    "    \n",
    "    # subsample the data\n",
    "    mask = list(range(num_training, num_training + num_validation))\n",
    "    X_val = X_train[mask]\n",
    "    y_val = y_train[mask]\n",
    "    mask = list(range(num_training))\n",
    "    X_train = X_train[mask]\n",
    "    y_train = y_train[mask]\n",
    "    mask = list(range(num_test))\n",
    "    X_test = X_test[mask]\n",
    "    y_test = y_test[mask]\n",
    "    mask = np.random.choice(num_training, num_dev, replace=False)\n",
    "    X_dev = X_train[mask]\n",
    "    y_dev = y_train[mask]\n",
    "    \n",
    "    # Preprocessing: reshape the image data into rows\n",
    "    X_train = np.reshape(X_train, (X_train.shape[0], -1))\n",
    "    X_val = np.reshape(X_val, (X_val.shape[0], -1))\n",
    "    X_test = np.reshape(X_test, (X_test.shape[0], -1))\n",
    "    X_dev = np.reshape(X_dev, (X_dev.shape[0], -1))\n",
    "    \n",
    "    # Normalize the data: subtract the mean image\n",
    "    mean_image = np.mean(X_train, axis = 0)\n",
    "    X_train -= mean_image\n",
    "    X_val -= mean_image\n",
    "    X_test -= mean_image\n",
    "    X_dev -= mean_image\n",
    "    \n",
    "    # add bias dimension and transform into columns\n",
    "    X_train = np.hstack([X_train, np.ones((X_train.shape[0], 1))])\n",
    "    X_val = np.hstack([X_val, np.ones((X_val.shape[0], 1))])\n",
    "    X_test = np.hstack([X_test, np.ones((X_test.shape[0], 1))])\n",
    "    X_dev = np.hstack([X_dev, np.ones((X_dev.shape[0], 1))])\n",
    "    \n",
    "    return X_train, y_train, X_val, y_val, X_test, y_test, X_dev, y_dev\n",
    "\n",
    "\n",
    "# Invoke the above function to get our data.\n",
    "X_train, y_train, X_val, y_val, X_test, y_test, X_dev, y_dev = get_CIFAR10_data()\n",
    "print('Train data shape: ', X_train.shape)\n",
    "print('Train labels shape: ', y_train.shape)\n",
    "print('Validation data shape: ', X_val.shape)\n",
    "print('Validation labels shape: ', y_val.shape)\n",
    "print('Test data shape: ', X_test.shape)\n",
    "print('Test labels shape: ', y_test.shape)\n",
    "print('dev data shape: ', X_dev.shape)\n",
    "print('dev labels shape: ', y_dev.shape)"
   ]
  },
  {
   "cell_type": "markdown",
   "metadata": {},
   "source": [
    "## Softmax Classifier\n",
    "\n",
    "Your code for this section will all be written inside **cs231n/classifiers/softmax.py**. \n"
   ]
  },
  {
   "cell_type": "code",
   "execution_count": 3,
   "metadata": {},
   "outputs": [
    {
     "name": "stdout",
     "output_type": "stream",
     "text": [
      "loss: 2.385423\n",
      "sanity check: 2.302585\n"
     ]
    }
   ],
   "source": [
    "# First implement the naive softmax loss function with nested loops.\n",
    "# Open the file cs231n/classifiers/softmax.py and implement the\n",
    "# softmax_loss_naive function.\n",
    "\n",
    "from cs231n.classifiers.softmax import softmax_loss_naive\n",
    "import time\n",
    "\n",
    "# Generate a random softmax weight matrix and use it to compute the loss.\n",
    "W = np.random.randn(3073, 10) * 0.0001\n",
    "loss, grad = softmax_loss_naive(W, X_dev, y_dev, 0.0)\n",
    "\n",
    "# As a rough sanity check, our loss should be something close to -log(0.1).\n",
    "print('loss: %f' % loss)\n",
    "print('sanity check: %f' % (-np.log(0.1)))"
   ]
  },
  {
   "cell_type": "markdown",
   "metadata": {},
   "source": [
    "## Inline Question 1:\n",
    "Why do we expect our loss to be close to -log(0.1)? Explain briefly.**\n",
    "\n",
    "**Your answer:** Our value should be close to -log(0.1) since we initilaze our weights from N(0,1) and multiply by 0.0001. As a result each w_ij in our W matrix is from N(0,1)*0.0001. the expected value of dor product between x and w_i (w_i*x) should be 0 for every 1<=i<=10.Since the expected value of each w_i is 0 vector. leading us to getting that e^(w_i*x) has an expected value 1 for every 1<=i<=10. So the expected value of every log term in our loss is -log(1/10) = -log(0.1) since the numerator is expected to be 1, and the denomenator sum of 10 1's(for all 10 classes). Now since the expected value for every loss term is -log(0.1) using the law of large numbers we get that the sum of all losses over N should converge as N->infinity to expectation of each loss(which is the same). so we get that the sum of losses over N should be -log(0.1) as N ->infinity so its expected for us to see a loss of -log(0.1).  The loss of the regurelization has an expected value of 0 so overall we get that we expect to see -log(0.1)"
   ]
  },
  {
   "cell_type": "code",
   "execution_count": 4,
   "metadata": {},
   "outputs": [
    {
     "name": "stdout",
     "output_type": "stream",
     "text": [
      "numerical: 0.242581 analytic: 0.242581, relative error: 9.381256e-08\n",
      "numerical: 1.842587 analytic: 1.842587, relative error: 1.050579e-08\n",
      "numerical: 0.982499 analytic: 0.982499, relative error: 7.734292e-08\n",
      "numerical: 0.550760 analytic: 0.550760, relative error: 6.217434e-08\n",
      "numerical: 1.069638 analytic: 1.069638, relative error: 1.024099e-07\n",
      "numerical: -0.515458 analytic: -0.515458, relative error: 7.254804e-09\n",
      "numerical: 0.492124 analytic: 0.492124, relative error: 8.621440e-08\n",
      "numerical: -0.000240 analytic: -0.000240, relative error: 7.608582e-05\n",
      "numerical: -0.250851 analytic: -0.250851, relative error: 5.350249e-08\n",
      "numerical: -2.645207 analytic: -2.645207, relative error: 2.808188e-09\n",
      "numerical: 0.596536 analytic: 0.596536, relative error: 7.932539e-08\n",
      "numerical: 3.026441 analytic: 3.026441, relative error: 9.706143e-09\n",
      "numerical: 2.108916 analytic: 2.108916, relative error: 5.958865e-09\n",
      "numerical: -4.397370 analytic: -4.397370, relative error: 1.488205e-08\n",
      "numerical: -1.690867 analytic: -1.690867, relative error: 7.144797e-09\n",
      "numerical: -0.073541 analytic: -0.073541, relative error: 3.999558e-07\n",
      "numerical: -2.271571 analytic: -2.271571, relative error: 3.628259e-08\n",
      "numerical: -2.844265 analytic: -2.844265, relative error: 9.192577e-10\n",
      "numerical: 1.206919 analytic: 1.206919, relative error: 2.448193e-08\n",
      "numerical: -0.837492 analytic: -0.837492, relative error: 1.197740e-08\n"
     ]
    }
   ],
   "source": [
    "# Complete the implementation of softmax_loss_naive and implement a (naive)\n",
    "# version of the gradient that uses nested loops.\n",
    "loss, grad = softmax_loss_naive(W, X_dev, y_dev, 0.0)\n",
    "\n",
    "# As we did for the SVM, use numeric gradient checking as a debugging tool.\n",
    "# The numeric gradient should be close to the analytic gradient.\n",
    "from cs231n.gradient_check import grad_check_sparse\n",
    "f = lambda w: softmax_loss_naive(w, X_dev, y_dev, 0.0)[0]\n",
    "grad_numerical = grad_check_sparse(f, W, grad, 10)\n",
    "\n",
    "# similar to SVM case, do another gradient check with regularization\n",
    "loss, grad = softmax_loss_naive(W, X_dev, y_dev, 5e1)\n",
    "f = lambda w: softmax_loss_naive(w, X_dev, y_dev, 5e1)[0]\n",
    "grad_numerical = grad_check_sparse(f, W, grad, 10)"
   ]
  },
  {
   "cell_type": "code",
   "execution_count": 5,
   "metadata": {},
   "outputs": [
    {
     "name": "stdout",
     "output_type": "stream",
     "text": [
      "naive loss: 2.385423e+00 computed in 0.185687s\n",
      "vectorized loss: 2.385423e+00 computed in 0.031221s\n",
      "Loss difference: 0.000000\n",
      "Gradient difference: 0.000000\n"
     ]
    }
   ],
   "source": [
    "# Now that we have a naive implementation of the softmax loss function and its gradient,\n",
    "# implement a vectorized version in softmax_loss_vectorized.\n",
    "# The two versions should compute the same results, but the vectorized version should be\n",
    "# much faster.\n",
    "tic = time.time()\n",
    "loss_naive, grad_naive = softmax_loss_naive(W, X_dev, y_dev, 0.000005)\n",
    "toc = time.time()\n",
    "print('naive loss: %e computed in %fs' % (loss_naive, toc - tic))\n",
    "\n",
    "from cs231n.classifiers.softmax import softmax_loss_vectorized\n",
    "tic = time.time()\n",
    "loss_vectorized, grad_vectorized = softmax_loss_vectorized(W, X_dev, y_dev, 0.000005)\n",
    "toc = time.time()\n",
    "print('vectorized loss: %e computed in %fs' % (loss_vectorized, toc - tic))\n",
    "\n",
    "# As we did for the SVM, we use the Frobenius norm to compare the two versions\n",
    "# of the gradient.\n",
    "grad_difference = np.linalg.norm(grad_naive - grad_vectorized, ord='fro')\n",
    "print('Loss difference: %f' % np.abs(loss_naive - loss_vectorized))\n",
    "print('Gradient difference: %f' % grad_difference)"
   ]
  },
  {
   "cell_type": "code",
   "execution_count": 6,
   "metadata": {},
   "outputs": [
    {
     "name": "stdout",
     "output_type": "stream",
     "text": [
      "lr 1.000000e-07 reg 1.000000e+04 train accuracy: 0.193245 val accuracy: 0.200000\n",
      "lr 1.000000e-07 reg 2.000000e+04 train accuracy: 0.245367 val accuracy: 0.234000\n",
      "lr 1.000000e-07 reg 3.000000e+04 train accuracy: 0.253388 val accuracy: 0.243000\n",
      "lr 1.000000e-07 reg 4.000000e+04 train accuracy: 0.281367 val accuracy: 0.282000\n",
      "lr 1.000000e-07 reg 5.000000e+04 train accuracy: 0.296694 val accuracy: 0.296000\n",
      "lr 1.000000e-07 reg 6.000000e+04 train accuracy: 0.295000 val accuracy: 0.303000\n",
      "lr 1.000000e-07 reg 7.000000e+04 train accuracy: 0.293612 val accuracy: 0.304000\n",
      "lr 1.000000e-07 reg 8.000000e+04 train accuracy: 0.295980 val accuracy: 0.297000\n",
      "lr 1.000000e-07 reg 9.000000e+04 train accuracy: 0.294755 val accuracy: 0.310000\n",
      "lr 2.000000e-07 reg 1.000000e+04 train accuracy: 0.271510 val accuracy: 0.262000\n",
      "lr 2.000000e-07 reg 2.000000e+04 train accuracy: 0.320429 val accuracy: 0.336000\n",
      "lr 2.000000e-07 reg 3.000000e+04 train accuracy: 0.323755 val accuracy: 0.345000\n",
      "lr 2.000000e-07 reg 4.000000e+04 train accuracy: 0.312735 val accuracy: 0.323000\n",
      "lr 2.000000e-07 reg 5.000000e+04 train accuracy: 0.302449 val accuracy: 0.313000\n",
      "lr 2.000000e-07 reg 6.000000e+04 train accuracy: 0.306449 val accuracy: 0.315000\n",
      "lr 2.000000e-07 reg 7.000000e+04 train accuracy: 0.287163 val accuracy: 0.306000\n",
      "lr 2.000000e-07 reg 8.000000e+04 train accuracy: 0.291469 val accuracy: 0.304000\n",
      "lr 2.000000e-07 reg 9.000000e+04 train accuracy: 0.285939 val accuracy: 0.298000\n",
      "lr 3.000000e-07 reg 1.000000e+04 train accuracy: 0.316102 val accuracy: 0.324000\n",
      "lr 3.000000e-07 reg 2.000000e+04 train accuracy: 0.335408 val accuracy: 0.351000\n",
      "lr 3.000000e-07 reg 3.000000e+04 train accuracy: 0.328571 val accuracy: 0.339000\n",
      "lr 3.000000e-07 reg 4.000000e+04 train accuracy: 0.311837 val accuracy: 0.324000\n",
      "lr 3.000000e-07 reg 5.000000e+04 train accuracy: 0.300449 val accuracy: 0.320000\n",
      "lr 3.000000e-07 reg 6.000000e+04 train accuracy: 0.308469 val accuracy: 0.335000\n",
      "lr 3.000000e-07 reg 7.000000e+04 train accuracy: 0.291857 val accuracy: 0.303000\n",
      "lr 3.000000e-07 reg 8.000000e+04 train accuracy: 0.291429 val accuracy: 0.307000\n",
      "lr 3.000000e-07 reg 9.000000e+04 train accuracy: 0.284347 val accuracy: 0.291000\n",
      "lr 4.000000e-07 reg 1.000000e+04 train accuracy: 0.345531 val accuracy: 0.351000\n",
      "lr 4.000000e-07 reg 2.000000e+04 train accuracy: 0.337163 val accuracy: 0.351000\n",
      "lr 4.000000e-07 reg 3.000000e+04 train accuracy: 0.317531 val accuracy: 0.344000\n",
      "lr 4.000000e-07 reg 4.000000e+04 train accuracy: 0.321898 val accuracy: 0.330000\n",
      "lr 4.000000e-07 reg 5.000000e+04 train accuracy: 0.311367 val accuracy: 0.318000\n",
      "lr 4.000000e-07 reg 6.000000e+04 train accuracy: 0.292143 val accuracy: 0.309000\n",
      "lr 4.000000e-07 reg 7.000000e+04 train accuracy: 0.287408 val accuracy: 0.305000\n",
      "lr 4.000000e-07 reg 8.000000e+04 train accuracy: 0.294469 val accuracy: 0.306000\n",
      "lr 4.000000e-07 reg 9.000000e+04 train accuracy: 0.295082 val accuracy: 0.304000\n",
      "lr 5.000000e-07 reg 1.000000e+04 train accuracy: 0.349122 val accuracy: 0.359000\n",
      "lr 5.000000e-07 reg 2.000000e+04 train accuracy: 0.334714 val accuracy: 0.346000\n",
      "lr 5.000000e-07 reg 3.000000e+04 train accuracy: 0.323551 val accuracy: 0.348000\n",
      "lr 5.000000e-07 reg 4.000000e+04 train accuracy: 0.313633 val accuracy: 0.316000\n",
      "lr 5.000000e-07 reg 5.000000e+04 train accuracy: 0.310082 val accuracy: 0.320000\n",
      "lr 5.000000e-07 reg 6.000000e+04 train accuracy: 0.297224 val accuracy: 0.306000\n",
      "lr 5.000000e-07 reg 7.000000e+04 train accuracy: 0.302571 val accuracy: 0.315000\n",
      "lr 5.000000e-07 reg 8.000000e+04 train accuracy: 0.301204 val accuracy: 0.330000\n",
      "lr 5.000000e-07 reg 9.000000e+04 train accuracy: 0.267082 val accuracy: 0.265000\n",
      "best validation accuracy achieved during cross-validation: 0.359000\n"
     ]
    }
   ],
   "source": [
    "# Use the validation set to tune hyperparameters (regularization strength and\n",
    "# learning rate). You should experiment with different ranges for the learning\n",
    "# rates and regularization strengths; if you are careful you should be able to\n",
    "# get a classification accuracy of over 0.35 on the validation set.\n",
    "from cs231n.classifiers import Softmax\n",
    "results = {}\n",
    "best_val = -1\n",
    "best_softmax = None\n",
    "learning_rates = [1e-7,2e-7,3e-7,4e-7, 5e-7]\n",
    "regularization_strengths = [1e4, 2e4, 3e4, 4e4, 5e4, 6e4, 7e4, 8e4, 9e4]\n",
    "\n",
    "################################################################################\n",
    "# TODO:                                                                        #\n",
    "# Use the validation set to set the learning rate and regularization strength. #\n",
    "# This should be identical to the validation that you did for the SVM; save    #\n",
    "# the best trained softmax classifer in best_softmax.                          #\n",
    "################################################################################\n",
    "for rate in learning_rates:\n",
    "    for regularize in regularization_strengths:\n",
    "        softmax = Softmax()\n",
    "        softmax.train(X_train, y_train, learning_rate=rate, reg=regularize, num_iters=300)\n",
    "        y_train_pred = softmax.predict(X_train)\n",
    "        acc_train = np.mean(y_train == y_train_pred)\n",
    "        y_val_pred = softmax.predict(X_val)\n",
    "        acc_val = np.mean(y_val == y_val_pred)\n",
    "        results[(rate, regularize)] = (acc_train, acc_val)\n",
    "        \n",
    "        if best_val < acc_val:\n",
    "            best_val = acc_val\n",
    "            best_softmax = softmax\n",
    "################################################################################\n",
    "#                              END OF YOUR CODE                                #\n",
    "################################################################################\n",
    "    \n",
    "# Print out results.\n",
    "for lr, reg in sorted(results):\n",
    "    train_accuracy, val_accuracy = results[(lr, reg)]\n",
    "    print('lr %e reg %e train accuracy: %f val accuracy: %f' % (\n",
    "                lr, reg, train_accuracy, val_accuracy))\n",
    "    \n",
    "print('best validation accuracy achieved during cross-validation: %f' % best_val)"
   ]
  },
  {
   "cell_type": "code",
   "execution_count": 7,
   "metadata": {},
   "outputs": [
    {
     "name": "stdout",
     "output_type": "stream",
     "text": [
      "softmax on raw pixels final test set accuracy: 0.354000\n"
     ]
    }
   ],
   "source": [
    "# evaluate on test set\n",
    "# Evaluate the best softmax on test set\n",
    "y_test_pred = best_softmax.predict(X_test)\n",
    "test_accuracy = np.mean(y_test == y_test_pred)\n",
    "print('softmax on raw pixels final test set accuracy: %f' % (test_accuracy, ))"
   ]
  },
  {
   "cell_type": "code",
   "execution_count": 8,
   "metadata": {},
   "outputs": [
    {
     "data": {
      "image/png": "[encoded data removed]",
      "text/plain": [
       "<matplotlib.figure.Figure at 0x21f98f3a550>"
      ]
     },
     "metadata": {},
     "output_type": "display_data"
    }
   ],
   "source": [
    "# Visualize the learned weights for each class\n",
    "w = best_softmax.W[:-1,:] # strip out the bias\n",
    "w = w.reshape(32, 32, 3, 10)\n",
    "\n",
    "w_min, w_max = np.min(w), np.max(w)\n",
    "\n",
    "classes = ['plane', 'car', 'bird', 'cat', 'deer', 'dog', 'frog', 'horse', 'ship', 'truck']\n",
    "for i in range(10):\n",
    "    plt.subplot(2, 5, i + 1)\n",
    "    \n",
    "    # Rescale the weights to be between 0 and 255\n",
    "    wimg = 255.0 * (w[:, :, :, i].squeeze() - w_min) / (w_max - w_min)\n",
    "    plt.imshow(wimg.astype('uint8'))\n",
    "    plt.axis('off')\n",
    "    plt.title(classes[i])"
   ]
  },
  {
   "cell_type": "code",
   "execution_count": null,
   "metadata": {},
   "outputs": [],
   "source": []
  }
 ],
 "metadata": {
  "kernelspec": {
   "display_name": "Python 3",
   "language": "python",
   "name": "python3"
  },
  "language_info": {
   "codemirror_mode": {
    "name": "ipython",
    "version": 3
   },
   "file_extension": ".py",
   "mimetype": "text/x-python",
   "name": "python",
   "nbconvert_exporter": "python",
   "pygments_lexer": "ipython3",
   "version": "3.6.4"
  }
 },
 "nbformat": 4,
 "nbformat_minor": 1
}
